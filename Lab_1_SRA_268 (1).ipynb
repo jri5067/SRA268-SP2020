{
  "nbformat": 4,
  "nbformat_minor": 0,
  "metadata": {
    "colab": {
      "name": "Lab 1 SRA 268.ipynb",
      "provenance": []
    },
    "kernelspec": {
      "name": "python3",
      "display_name": "Python 3"
    }
  },
  "cells": [
    {
      "cell_type": "markdown",
      "metadata": {
        "id": "C9tEtaSj-leL",
        "colab_type": "text"
      },
      "source": [
        "###**Precipitation in January 2017**"
      ]
    },
    {
      "cell_type": "markdown",
      "metadata": {
        "id": "2kSsUNOe-sUV",
        "colab_type": "text"
      },
      "source": [
        "###**Description**\n",
        "\n",
        "  As instructed by the assignment deliverables, I used a non-coding resource (Mini Tab Express) to create a time-change graph to plot a subset of the data provided. I chose to plot the levels of precipitation in 2017 (January only). I set Inches as the Y value plotted Day/Date (1-31) as the X value. "
      ]
    },
    {
      "cell_type": "markdown",
      "metadata": {
        "id": "2exTH1hZAX31",
        "colab_type": "text"
      },
      "source": [
        "![image Lab 1 Graph](https://github.com/jri5067/SRA268-SP2020/blob/master/Lab1Graph.PNG?raw=true)"
      ]
    },
    {
      "cell_type": "markdown",
      "metadata": {
        "id": "QdScBTNmBV-P",
        "colab_type": "text"
      },
      "source": [
        "###**Conclusion**\n",
        "\n",
        " Overall, making this graph was very practical since I am knowledgable in Mini Tab (from Stat 200) and immediately thought of it when planning this visual representation of the provided data. Regarding the graph, it is clear from the visualization that on days 4, 11, 12, 13, and 24, there were outliers in the data (revealing an influx of precipitation on these days)."
      ]
    }
  ]
}