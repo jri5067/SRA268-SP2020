{
  "nbformat": 4,
  "nbformat_minor": 0,
  "metadata": {
    "colab": {
      "name": "Isenberg_LAB2_DToG.ipynb",
      "provenance": []
    },
    "kernelspec": {
      "name": "python3",
      "display_name": "Python 3"
    }
  },
  "cells": [
    {
      "cell_type": "markdown",
      "metadata": {
        "id": "6sOc4Uyr4U-Z",
        "colab_type": "text"
      },
      "source": [
        "## Graph Types"
      ]
    },
    {
      "cell_type": "markdown",
      "metadata": {
        "id": "0zZdVLAd5CYr",
        "colab_type": "text"
      },
      "source": [
        "\n",
        "**John Isenberg                                                         SRA 268                                                                   20 FEB 2020**"
      ]
    },
    {
      "cell_type": "markdown",
      "metadata": {
        "id": "g-r6Clq45Hn4",
        "colab_type": "text"
      },
      "source": [
        "### Deviation\n"
      ]
    },
    {
      "cell_type": "markdown",
      "metadata": {
        "id": "2gorxo6E7A0t",
        "colab_type": "text"
      },
      "source": [
        "![alt text](https://raw.githubusercontent.com/jri5067/SRA268-SP2020/master/Deviation%202.png)"
      ]
    },
    {
      "cell_type": "markdown",
      "metadata": {
        "id": "w6bZ_NEi7E3w",
        "colab_type": "text"
      },
      "source": [
        "##What is this telling us?##"
      ]
    },
    {
      "cell_type": "markdown",
      "metadata": {
        "id": "95L-spaC7QHF",
        "colab_type": "text"
      },
      "source": [
        "This graph depicts a numerically even divergent bar graph, displaying overall win and lose points of teams between the years of 1991-1994. It can provide a commentary on the difference between years of immediate past. This shows us an overall decreasing pattern as the annual season dates increase(analyzing both team wins and losses). This type of divergent style graph shows how teams react from previous data (the previous year) and lets us analyze trends of March Madness teams over a certain span of time. This differs from the \"span over time\" graphs due to the analysis that directly links to the year before (; in both positive and negativestatistics)."
      ]
    },
    {
      "cell_type": "markdown",
      "metadata": {
        "id": "YgXyXjmz7cDP",
        "colab_type": "text"
      },
      "source": [
        "### Correlation\n"
      ]
    },
    {
      "cell_type": "markdown",
      "metadata": {
        "id": "SGx15rZq7hvt",
        "colab_type": "text"
      },
      "source": [
        "![alt text](https://raw.githubusercontent.com/jri5067/SRA268-SP2020/master/Correlation%202.png)"
      ]
    },
    {
      "cell_type": "markdown",
      "metadata": {
        "id": "dljjONNi7jmj",
        "colab_type": "text"
      },
      "source": [
        "#### What is this telling us?"
      ]
    },
    {
      "cell_type": "markdown",
      "metadata": {
        "id": "PwZEZrFB7laG",
        "colab_type": "text"
      },
      "source": [
        "Overall, the known statistical definition of what correlation is, is the relationship between the two variables (of winning game point average and overtime hours), and how they affect each other (either positively or negatively). These variables are both numerically comparative and continuous in value. The graph above shows the relationship between 12 randomly chosen winning NCAA teams, and their overall positive relationship between their average hours spent in overtime and their average win points. The scatter plot exits on a positive x-and-y scale and displays individual color schemes for each team randomly chosen. Mainly, the takeaway from this correlation is the relationship between a high game point average, and the team going into overtime hours (.1-60 minutes)."
      ]
    },
    {
      "cell_type": "markdown",
      "metadata": {
        "id": "MqUdI-uL7r2s",
        "colab_type": "text"
      },
      "source": [
        "### Ranking\n"
      ]
    },
    {
      "cell_type": "markdown",
      "metadata": {
        "id": "AvlxCOVt7x9F",
        "colab_type": "text"
      },
      "source": [
        "![alt text](https://raw.githubusercontent.com/jri5067/SRA268-SP2020/master/Ranking%201.png)"
      ]
    },
    {
      "cell_type": "markdown",
      "metadata": {
        "id": "lCAYtfza7yTq",
        "colab_type": "text"
      },
      "source": [
        "#### What is this telling us?"
      ]
    },
    {
      "cell_type": "markdown",
      "metadata": {
        "id": "MyuciD277ygU",
        "colab_type": "text"
      },
      "source": [
        "Ranking, in itself, is ordering the value of the properties of different values in the graph. Relating the definition of a ranking graph to the randomly chosen dataset (of the total winning points of the winning teams) above, it will inevitably order the scale of their positive value. The graph shows each team name's value and the relationship to other variables through the descending order of the figure. This also provides a clear visualization of each value. The variation of colors for different teams also offers better clarity through the presence of individual color assignment and a color legend to better distinguish the value of the teams' associated points. \n"
      ]
    },
    {
      "cell_type": "markdown",
      "metadata": {
        "id": "dGDGl8-G7y8Y",
        "colab_type": "text"
      },
      "source": [
        "### Distribution\n"
      ]
    },
    {
      "cell_type": "markdown",
      "metadata": {
        "id": "FB0uV-jy76p9",
        "colab_type": "text"
      },
      "source": [
        "![alt text](https://raw.githubusercontent.com/jri5067/SRA268-SP2020/master/Distribution%201.png)"
      ]
    },
    {
      "cell_type": "markdown",
      "metadata": {
        "id": "_6SOzhrQ76zH",
        "colab_type": "text"
      },
      "source": [
        "#### What is this telling us?"
      ]
    },
    {
      "cell_type": "markdown",
      "metadata": {
        "id": "HBWqsS_g767h",
        "colab_type": "text"
      },
      "source": [
        "The utilization of this box and whisker plot allows us to see not only the respective medians of the Buckeyes, Hawkeyes, Panthers, Pirates, Wildcats, and Wolverines (all chosen at random), but it also allows us to see the range of the data, where the central entity of values exists, and possible outliers to the majority of the data. In the case of the figure above, it allows us to track the overall median, range, and outliers of (again) the winning points of these winning teams previously listed (for all years). They are in no ranked order, but this type of graph still allows us to compare each teams boxes, and pinpoint common trends in where the majority of the data lies, the common median values, trends based on outliers, and how widely each teams distribution spans based on the range of each teams box. Overall, this allows us to visualize the consistency of wins of these six randomly chosen teams based on the visualization of their points. "
      ]
    },
    {
      "cell_type": "markdown",
      "metadata": {
        "id": "wQsDThk677Fy",
        "colab_type": "text"
      },
      "source": [
        "### Change over Time\n"
      ]
    },
    {
      "cell_type": "markdown",
      "metadata": {
        "id": "Z1j_YLOA7_OK",
        "colab_type": "text"
      },
      "source": [
        "![alt text](https://raw.githubusercontent.com/jri5067/SRA268-SP2020/master/Change%20Over%20Time%201.png)"
      ]
    },
    {
      "cell_type": "markdown",
      "metadata": {
        "id": "mpfsmmgi7_Vj",
        "colab_type": "text"
      },
      "source": [
        "#### What is this telling us?"
      ]
    },
    {
      "cell_type": "markdown",
      "metadata": {
        "id": "rYLXoMMO7_di",
        "colab_type": "text"
      },
      "source": [
        "I chose to utilize a simple line graph to easily distinguish the total losing points of two random losing teams (the Demon Deacons and Titans) based on the years 1991-2009. This inevitably lets the viewer visualize the progress of these two teams over time, and allows the viewer to track possible consistencies or inconsistencies regarding typical losing points in a year. In terms of concepts provided in data visualization, it will enable the viewer to see irregularities of the dataset (either positive or negative). The tracking of total losing point trends can be practical, mainly for team management, or possible investment decisions of these teams based on the change over time of their losing points. "
      ]
    },
    {
      "cell_type": "markdown",
      "metadata": {
        "id": "lFwiHoE-7_jZ",
        "colab_type": "text"
      },
      "source": [
        "### Magnitude\n"
      ]
    },
    {
      "cell_type": "markdown",
      "metadata": {
        "id": "ICQFnXj78EbF",
        "colab_type": "text"
      },
      "source": [
        "![alt text](https://raw.githubusercontent.com/jri5067/SRA268-SP2020/master/Mag%202.png)"
      ]
    },
    {
      "cell_type": "markdown",
      "metadata": {
        "id": "QGG7XYG88Eii",
        "colab_type": "text"
      },
      "source": [
        "#### What is this telling us?"
      ]
    },
    {
      "cell_type": "markdown",
      "metadata": {
        "id": "VS7uGa0l8Eos",
        "colab_type": "text"
      },
      "source": [
        "As discussed in class, the utility of magnitude graphs mainly lets the viewer visualize the comparisons in the value of binded data categories. In the case of the graph in which I constructed, it allows us to see the comparison of reigonal winning point values of three randomly selected winning teams (Gators, Jayhawks, and Rams). Their binded category would be defined as all regions associated with each team (W through Z). Visualizing winning points by region lets the viewer see the breakdown of total winning points in each of the teams' regions. The spatial relationship can be used as a tool of comparison, not only for comparing point totals between teams but also between regions. It is practical to use this as a method of comparison because it can point to the effect various team regions can have on their score and performance. The color scheme varies only between different regions, simply to make visualization and differentiation of different point values within easier. "
      ]
    },
    {
      "cell_type": "markdown",
      "metadata": {
        "id": "bEKFxP8R8Evk",
        "colab_type": "text"
      },
      "source": [
        "### Part-to-Whole\n"
      ]
    },
    {
      "cell_type": "markdown",
      "metadata": {
        "id": "WFHlcYKV8E35",
        "colab_type": "text"
      },
      "source": [
        "![alt text](https://raw.githubusercontent.com/jri5067/SRA268-SP2020/master/Part-to-Whole.png)"
      ]
    },
    {
      "cell_type": "markdown",
      "metadata": {
        "id": "PNSd3wlp8UZH",
        "colab_type": "text"
      },
      "source": [
        "#### What is this telling us?"
      ]
    },
    {
      "cell_type": "markdown",
      "metadata": {
        "id": "y9tb_QRA8aqt",
        "colab_type": "text"
      },
      "source": [
        "A prime form of visualization that displays part-to-whole data information is a simple pie chart, utilized above. I chose to display a part-to-whole relationship of four random winning teams (Big Red, Flyers, Midshipmen, and Terrapins) and their total win points. The graph as a whole would equate to the combined winning totals of all four teams, and the partial data would consist of each team's specific point total within the pie. Size differences were delegated to each of the partial data within the pie to easily differentiate and distinguish the varying amounts of each team's win totals. A simple color palette was also assigned to, again, create a clear way to identify differing groups, and their partial data within the combined whole. Associated labels, point total legends, and color legends were lastly assigned to provide better ease of visualization and accurate measurements according to the size differences of the partial data. Overall, the practicality of using a Part-to-Whole display would be simply to compare the size of segments and use these comparisons to separate data into visual percentages of a larger dataset."
      ]
    }
  ]
}